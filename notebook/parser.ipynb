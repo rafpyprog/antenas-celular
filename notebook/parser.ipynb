{
 "cells": [
  {
   "cell_type": "code",
   "execution_count": 18,
   "metadata": {},
   "outputs": [],
   "source": [
    "import os\n",
    "import glob\n",
    "import re\n",
    "\n",
    "from bs4 import BeautifulSoup\n",
    "import pandas as pd"
   ]
  },
  {
   "cell_type": "code",
   "execution_count": 10,
   "metadata": {},
   "outputs": [],
   "source": [
    "def string2geocoord(string):\n",
    "    coord = re.sub('S|N|E|W', '.', string)    \n",
    "    if 'S' in string or 'W' in string:\n",
    "        return '-' + coord\n",
    "    else:\n",
    "        return coord    \n",
    "\n",
    "    \n",
    "def is_company_data(table):\n",
    "    return tb.find('label').get('id') == 'labelNúmero/Nome'\n",
    "\n",
    "\n",
    "def is_erb_data(table):\n",
    "    return tb.find('label').text == 'Estação'"
   ]
  },
  {
   "cell_type": "code",
   "execution_count": 11,
   "metadata": {},
   "outputs": [
    {
     "name": "stdout",
     "output_type": "stream",
     "text": [
      "Encontrados 27 arquivos de dados.\n"
     ]
    }
   ],
   "source": [
    "DATA_DIR = '../data'\n",
    "DATA_FILES = glob.glob(os.path.join(DATA_DIR, '*.html'))\n",
    "print(f'Encontrados {len(DATA_FILES)} arquivos de dados.')"
   ]
  },
  {
   "cell_type": "code",
   "execution_count": 14,
   "metadata": {},
   "outputs": [
    {
     "name": "stdout",
     "output_type": "stream",
     "text": [
      "0 - ../data/BA.html\n",
      "1 - ../data/SP.html\n",
      "2 - ../data/RS.html\n",
      "3 - ../data/TO.html\n",
      "4 - ../data/RO.html\n",
      "5 - ../data/AM.html\n",
      "6 - ../data/AP.html\n",
      "7 - ../data/RR.html\n",
      "8 - ../data/PR.html\n",
      "9 - ../data/SC.html\n",
      "10 - ../data/AL.html\n",
      "11 - ../data/RN.html\n",
      "12 - ../data/AC.html\n",
      "13 - ../data/SE.html\n",
      "14 - ../data/PB.html\n",
      "15 - ../data/MS.html\n",
      "16 - ../data/MG.html\n",
      "17 - ../data/PA.html\n",
      "18 - ../data/DF.html\n",
      "19 - ../data/RJ.html\n",
      "20 - ../data/CE.html\n",
      "21 - ../data/MA.html\n",
      "22 - ../data/PE.html\n",
      "23 - ../data/GO.html\n",
      "24 - ../data/ES.html\n",
      "25 - ../data/PI.html\n",
      "26 - ../data/MT.html\n"
     ]
    }
   ],
   "source": [
    "dados_br = pd.DataFrame()\n",
    "converters = {'Estação': str}\n",
    "for n, datafile in enumerate(DATA_FILES):\n",
    "    print(n, '-', datafile)\n",
    "    data = {}\n",
    "    soup = BeautifulSoup(open(datafile, encoding='Latin1').read(), 'lxml')\n",
    "    tables = soup.find_all('table')\n",
    "    for tb in tables:\n",
    "        if is_company_data(tb):\n",
    "            company_id = tb.find('label').text        \n",
    "            company_number = company_id[:7].strip()\n",
    "            company_name = company_id[10:].strip()\n",
    "            company_sgl = company_name.split(' ')[0]        \n",
    "        else:\n",
    "            if is_erb_data(tb):\n",
    "                HTML = str(tb)\n",
    "                df = pd.read_html(HTML, header=0, converters=converters)[0]\n",
    "                df.insert(0, 'nom_operadora', company_name)\n",
    "                df.insert(0, 'sgl_operadora', company_sgl)\n",
    "                df.insert(0, 'num_operadora', company_number)            \n",
    "                data[company_name] = df\n",
    "    dados_br = pd.concat([dados_br, pd.concat([data[i] for i in data], ignore_index=True)], ignore_index=True)"
   ]
  },
  {
   "cell_type": "code",
   "execution_count": 23,
   "metadata": {
    "scrolled": false
   },
   "outputs": [
    {
     "data": {
      "text/html": [
       "<div>\n",
       "<style scoped>\n",
       "    .dataframe tbody tr th:only-of-type {\n",
       "        vertical-align: middle;\n",
       "    }\n",
       "\n",
       "    .dataframe tbody tr th {\n",
       "        vertical-align: top;\n",
       "    }\n",
       "\n",
       "    .dataframe thead th {\n",
       "        text-align: right;\n",
       "    }\n",
       "</style>\n",
       "<table border=\"1\" class=\"dataframe\">\n",
       "  <thead>\n",
       "    <tr style=\"text-align: right;\">\n",
       "      <th></th>\n",
       "      <th>num_operadora</th>\n",
       "      <th>sgl_operadora</th>\n",
       "      <th>nom_operadora</th>\n",
       "      <th>Estação</th>\n",
       "      <th>Nome</th>\n",
       "      <th>UF</th>\n",
       "      <th>Município</th>\n",
       "      <th>Bairro</th>\n",
       "      <th>Logradouro</th>\n",
       "      <th>Latitude</th>\n",
       "      <th>Longitude</th>\n",
       "      <th>Data Cadastro</th>\n",
       "      <th>Data 1º Lic.</th>\n",
       "      <th>Última Licença</th>\n",
       "    </tr>\n",
       "  </thead>\n",
       "  <tbody>\n",
       "    <tr>\n",
       "      <th>0</th>\n",
       "      <td>1278410</td>\n",
       "      <td>OI</td>\n",
       "      <td>OI MÓVEL S.A. - EM RECUPERAÇÃO JUDICIAL</td>\n",
       "      <td>641073011</td>\n",
       "      <td>BABRR0026 / 3GBABRR0862 / 4GBABRR5862</td>\n",
       "      <td>BA</td>\n",
       "      <td>Salvador</td>\n",
       "      <td>Cabula</td>\n",
       "      <td>Rua Leila Diniz - nº 150</td>\n",
       "      <td>-12.571720</td>\n",
       "      <td>-38.274240</td>\n",
       "      <td>16/11/2001</td>\n",
       "      <td>09/08/2002</td>\n",
       "      <td>30/05/2016</td>\n",
       "    </tr>\n",
       "    <tr>\n",
       "      <th>1</th>\n",
       "      <td>1278410</td>\n",
       "      <td>OI</td>\n",
       "      <td>OI MÓVEL S.A. - EM RECUPERAÇÃO JUDICIAL</td>\n",
       "      <td>641076797</td>\n",
       "      <td>BBAROM0101 / 3GBAROM1354 / 4GBAROM5354</td>\n",
       "      <td>BA</td>\n",
       "      <td>Salvador</td>\n",
       "      <td>BOMFIM</td>\n",
       "      <td>RUA TRAVASSO DO MEIO - nº 41</td>\n",
       "      <td>-12.552750</td>\n",
       "      <td>-38.301970</td>\n",
       "      <td>19/11/2001</td>\n",
       "      <td>09/08/2002</td>\n",
       "      <td>30/05/2016</td>\n",
       "    </tr>\n",
       "    <tr>\n",
       "      <th>2</th>\n",
       "      <td>1278410</td>\n",
       "      <td>OI</td>\n",
       "      <td>OI MÓVEL S.A. - EM RECUPERAÇÃO JUDICIAL</td>\n",
       "      <td>641088949</td>\n",
       "      <td>BALFS0410 / 3GBALFS1038 / 4GBALFS5038</td>\n",
       "      <td>BA</td>\n",
       "      <td>Lauro de Freitas</td>\n",
       "      <td>BURAQUINHO</td>\n",
       "      <td>RUA JULIO M. DOS SANTOS - nº S/Nº</td>\n",
       "      <td>-12.524680</td>\n",
       "      <td>-38.171260</td>\n",
       "      <td>21/11/2001</td>\n",
       "      <td>09/08/2002</td>\n",
       "      <td>09/01/2017</td>\n",
       "    </tr>\n",
       "    <tr>\n",
       "      <th>3</th>\n",
       "      <td>1278410</td>\n",
       "      <td>OI</td>\n",
       "      <td>OI MÓVEL S.A. - EM RECUPERAÇÃO JUDICIAL</td>\n",
       "      <td>641089023</td>\n",
       "      <td>BARMS0032 / 3GBARMS0032 / 4GBARMS5032</td>\n",
       "      <td>BA</td>\n",
       "      <td>Salvador</td>\n",
       "      <td>COUTOS</td>\n",
       "      <td>AVENIDA AFRANIO PEIXOTO - nº S/N°</td>\n",
       "      <td>-12.511900</td>\n",
       "      <td>-38.283200</td>\n",
       "      <td>21/11/2001</td>\n",
       "      <td>09/08/2002</td>\n",
       "      <td>30/05/2016</td>\n",
       "    </tr>\n",
       "    <tr>\n",
       "      <th>4</th>\n",
       "      <td>1278410</td>\n",
       "      <td>OI</td>\n",
       "      <td>OI MÓVEL S.A. - EM RECUPERAÇÃO JUDICIAL</td>\n",
       "      <td>641089066</td>\n",
       "      <td>BAFSA0302 / 4GBAFSA5302</td>\n",
       "      <td>BA</td>\n",
       "      <td>Feira de Santana</td>\n",
       "      <td>RIBEIRO</td>\n",
       "      <td>TRAVESSA DOS CONTABILISTAS - nº 100</td>\n",
       "      <td>-12.152549</td>\n",
       "      <td>-38.574860</td>\n",
       "      <td>21/11/2001</td>\n",
       "      <td>09/08/2002</td>\n",
       "      <td>30/05/2016</td>\n",
       "    </tr>\n",
       "  </tbody>\n",
       "</table>\n",
       "</div>"
      ],
      "text/plain": [
       "  num_operadora sgl_operadora                            nom_operadora  \\\n",
       "0       1278410            OI  OI MÓVEL S.A. - EM RECUPERAÇÃO JUDICIAL   \n",
       "1       1278410            OI  OI MÓVEL S.A. - EM RECUPERAÇÃO JUDICIAL   \n",
       "2       1278410            OI  OI MÓVEL S.A. - EM RECUPERAÇÃO JUDICIAL   \n",
       "3       1278410            OI  OI MÓVEL S.A. - EM RECUPERAÇÃO JUDICIAL   \n",
       "4       1278410            OI  OI MÓVEL S.A. - EM RECUPERAÇÃO JUDICIAL   \n",
       "\n",
       "     Estação                                    Nome  UF         Município  \\\n",
       "0  641073011   BABRR0026 / 3GBABRR0862 / 4GBABRR5862  BA          Salvador   \n",
       "1  641076797  BBAROM0101 / 3GBAROM1354 / 4GBAROM5354  BA          Salvador   \n",
       "2  641088949   BALFS0410 / 3GBALFS1038 / 4GBALFS5038  BA  Lauro de Freitas   \n",
       "3  641089023   BARMS0032 / 3GBARMS0032 / 4GBARMS5032  BA          Salvador   \n",
       "4  641089066                 BAFSA0302 / 4GBAFSA5302  BA  Feira de Santana   \n",
       "\n",
       "       Bairro                           Logradouro    Latitude   Longitude  \\\n",
       "0      Cabula             Rua Leila Diniz - nº 150  -12.571720  -38.274240   \n",
       "1      BOMFIM         RUA TRAVASSO DO MEIO - nº 41  -12.552750  -38.301970   \n",
       "2  BURAQUINHO    RUA JULIO M. DOS SANTOS - nº S/Nº  -12.524680  -38.171260   \n",
       "3      COUTOS    AVENIDA AFRANIO PEIXOTO - nº S/N°  -12.511900  -38.283200   \n",
       "4     RIBEIRO  TRAVESSA DOS CONTABILISTAS - nº 100  -12.152549  -38.574860   \n",
       "\n",
       "  Data Cadastro Data 1º Lic. Última Licença  \n",
       "0    16/11/2001   09/08/2002     30/05/2016  \n",
       "1    19/11/2001   09/08/2002     30/05/2016  \n",
       "2    21/11/2001   09/08/2002     09/01/2017  \n",
       "3    21/11/2001   09/08/2002     30/05/2016  \n",
       "4    21/11/2001   09/08/2002     30/05/2016  "
      ]
     },
     "execution_count": 23,
     "metadata": {},
     "output_type": "execute_result"
    }
   ],
   "source": [
    "dados_br.head()"
   ]
  },
  {
   "cell_type": "code",
   "execution_count": 19,
   "metadata": {},
   "outputs": [],
   "source": [
    "dados_br.Latitude = dados_br.Latitude.map(string2geocoord)\n",
    "dados_br.Longitude = dados_br.Longitude.map(string2geocoord)"
   ]
  },
  {
   "cell_type": "code",
   "execution_count": 24,
   "metadata": {
    "hideOutput": true,
    "scrolled": true
   },
   "outputs": [
    {
     "name": "stdout",
     "output_type": "stream",
     "text": [
      "<class 'pandas.core.frame.DataFrame'>\n",
      "RangeIndex: 86243 entries, 0 to 86242\n",
      "Data columns (total 14 columns):\n",
      "num_operadora     86243 non-null object\n",
      "sgl_operadora     86243 non-null object\n",
      "nom_operadora     86243 non-null object\n",
      "Estação           86243 non-null object\n",
      "Nome              86154 non-null object\n",
      "UF                86243 non-null object\n",
      "Município         86243 non-null object\n",
      "Bairro            84656 non-null object\n",
      "Logradouro        86243 non-null object\n",
      "Latitude          86243 non-null object\n",
      "Longitude         86243 non-null object\n",
      "Data Cadastro     86243 non-null object\n",
      "Data 1º Lic.      84241 non-null object\n",
      "Última Licença    80080 non-null object\n",
      "dtypes: object(14)\n",
      "memory usage: 9.2+ MB\n"
     ]
    }
   ],
   "source": [
    "dados_br.info()"
   ]
  },
  {
   "cell_type": "code",
   "execution_count": 25,
   "metadata": {
    "hideOutput": true
   },
   "outputs": [],
   "source": [
    "dados_br.to_csv('../data/dataset-erb-BR.csv', sep=';', encoding='Latin1')"
   ]
  }
 ],
 "metadata": {
  "kernelspec": {
   "display_name": "Python 3",
   "language": "python",
   "name": "python3"
  },
  "language_info": {
   "codemirror_mode": {
    "name": "ipython",
    "version": 3
   },
   "file_extension": ".py",
   "mimetype": "text/x-python",
   "name": "python",
   "nbconvert_exporter": "python",
   "pygments_lexer": "ipython3",
   "version": "3.6.3"
  }
 },
 "nbformat": 4,
 "nbformat_minor": 2
}
