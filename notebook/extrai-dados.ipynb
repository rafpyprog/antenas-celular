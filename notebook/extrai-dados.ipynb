{
 "cells": [
  {
   "cell_type": "code",
   "execution_count": 1,
   "metadata": {
    "collapsed": true,
    "deletable": true,
    "editable": true
   },
   "outputs": [],
   "source": [
    "import os\n",
    "import glob\n",
    "import re\n",
    "\n",
    "from bs4 import BeautifulSoup\n",
    "import pandas as pd"
   ]
  },
  {
   "cell_type": "code",
   "execution_count": 2,
   "metadata": {
    "collapsed": true,
    "deletable": true,
    "editable": true
   },
   "outputs": [],
   "source": [
    "def string2geocoord(string):\n",
    "    coord = re.sub('S|N|E|W', '.', string)    \n",
    "    if 'S' in string or 'W' in string:\n",
    "        return '-' + coord\n",
    "    else:\n",
    "        return coord    \n",
    "\n",
    "    \n",
    "def is_company_data(table):\n",
    "    return tb.find('label').get('id') == 'labelNúmero/Nome'\n",
    "\n",
    "\n",
    "def is_erb_data(table):\n",
    "    return tb.find('label').text == 'Estação'"
   ]
  },
  {
   "cell_type": "code",
   "execution_count": 3,
   "metadata": {
    "collapsed": false,
    "deletable": true,
    "editable": true
   },
   "outputs": [
    {
     "name": "stdout",
     "output_type": "stream",
     "text": [
      "Encontrados 27 arquivos de dados.\n"
     ]
    }
   ],
   "source": [
    "DATA_DIR = '../data'\n",
    "DATA_FILES = glob.glob(os.path.join(DATA_DIR, '*.html'))\n",
    "print(f'Encontrados {len(DATA_FILES)} arquivos de dados.')"
   ]
  },
  {
   "cell_type": "code",
   "execution_count": 4,
   "metadata": {
    "collapsed": false,
    "deletable": true,
    "editable": true
   },
   "outputs": [
    {
     "name": "stdout",
     "output_type": "stream",
     "text": [
      "0 - ../data\\AC.html\n",
      "1 - ../data\\AL.html\n",
      "2 - ../data\\AM.html\n",
      "3 - ../data\\AP.html\n",
      "4 - ../data\\BA.html\n",
      "5 - ../data\\CE.html\n",
      "6 - ../data\\DF.html\n",
      "7 - ../data\\ES.html\n",
      "8 - ../data\\GO.html\n",
      "9 - ../data\\MA.html\n",
      "10 - ../data\\MG.html\n",
      "11 - ../data\\MS.html\n",
      "12 - ../data\\MT.html\n",
      "13 - ../data\\PA.html\n",
      "14 - ../data\\PB.html\n",
      "15 - ../data\\PE.html\n",
      "16 - ../data\\PI.html\n",
      "17 - ../data\\PR.html\n",
      "18 - ../data\\RJ.html\n",
      "19 - ../data\\RN.html\n",
      "20 - ../data\\RO.html\n",
      "21 - ../data\\RR.html\n",
      "22 - ../data\\RS.html\n",
      "23 - ../data\\SC.html\n",
      "24 - ../data\\SE.html\n",
      "25 - ../data\\SP.html\n",
      "26 - ../data\\TO.html\n"
     ]
    }
   ],
   "source": [
    "dados_br = pd.DataFrame()\n",
    "converters = {'Estação': str}\n",
    "for n, datafile in enumerate(DATA_FILES):\n",
    "    print(n, '-', datafile)\n",
    "    data = {}\n",
    "    soup = BeautifulSoup(open(datafile, encoding='Latin1').read(), 'lxml')\n",
    "    tables = soup.find_all('table')\n",
    "    for tb in tables:\n",
    "        if is_company_data(tb):\n",
    "            company_id = tb.find('label').text        \n",
    "            company_number = company_id[:7].strip()\n",
    "            company_name = company_id[10:].strip()\n",
    "            company_sgl = company_name.split(' ')[0]        \n",
    "        else:\n",
    "            if is_erb_data(tb):\n",
    "                HTML = str(tb)\n",
    "                df = pd.read_html(HTML, header=0, converters=converters)[0]\n",
    "                df.insert(0, 'nom_operadora', company_name)\n",
    "                df.insert(0, 'sgl_operadora', company_sgl)\n",
    "                df.insert(0, 'num_operadora', company_number)            \n",
    "                data[company_name] = df\n",
    "    dados_br = pd.concat([dados_br, pd.concat([data[i] for i in data], ignore_index=True)], ignore_index=True)"
   ]
  },
  {
   "cell_type": "code",
   "execution_count": 5,
   "metadata": {
    "collapsed": false,
    "deletable": true,
    "editable": true,
    "scrolled": false
   },
   "outputs": [
    {
     "data": {
      "text/html": [
       "<div>\n",
       "<style scoped>\n",
       "    .dataframe tbody tr th:only-of-type {\n",
       "        vertical-align: middle;\n",
       "    }\n",
       "\n",
       "    .dataframe tbody tr th {\n",
       "        vertical-align: top;\n",
       "    }\n",
       "\n",
       "    .dataframe thead th {\n",
       "        text-align: right;\n",
       "    }\n",
       "</style>\n",
       "<table border=\"1\" class=\"dataframe\">\n",
       "  <thead>\n",
       "    <tr style=\"text-align: right;\">\n",
       "      <th></th>\n",
       "      <th>num_operadora</th>\n",
       "      <th>sgl_operadora</th>\n",
       "      <th>nom_operadora</th>\n",
       "      <th>Estação</th>\n",
       "      <th>Nome</th>\n",
       "      <th>UF</th>\n",
       "      <th>Município</th>\n",
       "      <th>Bairro</th>\n",
       "      <th>Logradouro</th>\n",
       "      <th>Latitude</th>\n",
       "      <th>Longitude</th>\n",
       "      <th>Data Cadastro</th>\n",
       "      <th>Data 1º Lic.</th>\n",
       "      <th>Última Licença</th>\n",
       "    </tr>\n",
       "  </thead>\n",
       "  <tbody>\n",
       "    <tr>\n",
       "      <th>0</th>\n",
       "      <td>4152433</td>\n",
       "      <td>NEXTEL</td>\n",
       "      <td>NEXTEL TELECOMUNICACOES LTDA</td>\n",
       "      <td>698421370</td>\n",
       "      <td>ACCRBO009OU</td>\n",
       "      <td>AC</td>\n",
       "      <td>Rio Branco</td>\n",
       "      <td>Vila Nova</td>\n",
       "      <td>Avenida Antônio da Rocha Viana - nº s/n</td>\n",
       "      <td>09S561476</td>\n",
       "      <td>67W493986</td>\n",
       "      <td>10/12/2012</td>\n",
       "      <td>09/01/2013</td>\n",
       "      <td>09/06/2014</td>\n",
       "    </tr>\n",
       "    <tr>\n",
       "      <th>1</th>\n",
       "      <td>4152433</td>\n",
       "      <td>NEXTEL</td>\n",
       "      <td>NEXTEL TELECOMUNICACOES LTDA</td>\n",
       "      <td>699136172</td>\n",
       "      <td>ACCRBO004OU</td>\n",
       "      <td>AC</td>\n",
       "      <td>Rio Branco</td>\n",
       "      <td>Conjunto Tangará</td>\n",
       "      <td>Avenida Nações Unidas, s/n° - nº S/N</td>\n",
       "      <td>09S575120</td>\n",
       "      <td>67W502730</td>\n",
       "      <td>01/07/2013</td>\n",
       "      <td>12/09/2013</td>\n",
       "      <td>09/06/2014</td>\n",
       "    </tr>\n",
       "    <tr>\n",
       "      <th>2</th>\n",
       "      <td>4152433</td>\n",
       "      <td>NEXTEL</td>\n",
       "      <td>NEXTEL TELECOMUNICACOES LTDA</td>\n",
       "      <td>699136237</td>\n",
       "      <td>ACCRBO013OU</td>\n",
       "      <td>AC</td>\n",
       "      <td>Rio Branco</td>\n",
       "      <td>Alumínio</td>\n",
       "      <td>Rua 05 Quadra 7 Lote 17 - nº S/N</td>\n",
       "      <td>09S571380</td>\n",
       "      <td>67W500270</td>\n",
       "      <td>01/07/2013</td>\n",
       "      <td>12/09/2013</td>\n",
       "      <td>09/06/2014</td>\n",
       "    </tr>\n",
       "    <tr>\n",
       "      <th>3</th>\n",
       "      <td>4152433</td>\n",
       "      <td>NEXTEL</td>\n",
       "      <td>NEXTEL TELECOMUNICACOES LTDA</td>\n",
       "      <td>699521963</td>\n",
       "      <td>ACCRBO001OU</td>\n",
       "      <td>AC</td>\n",
       "      <td>Rio Branco</td>\n",
       "      <td>Barro Preto</td>\n",
       "      <td>Travessa Santa Tereza esquina com Invernada - ...</td>\n",
       "      <td>09S580090</td>\n",
       "      <td>67W473690</td>\n",
       "      <td>25/10/2013</td>\n",
       "      <td>13/02/2014</td>\n",
       "      <td>09/06/2014</td>\n",
       "    </tr>\n",
       "    <tr>\n",
       "      <th>4</th>\n",
       "      <td>4152433</td>\n",
       "      <td>NEXTEL</td>\n",
       "      <td>NEXTEL TELECOMUNICACOES LTDA</td>\n",
       "      <td>699521980</td>\n",
       "      <td>ACCRBO002OU</td>\n",
       "      <td>AC</td>\n",
       "      <td>Rio Branco</td>\n",
       "      <td>Centro</td>\n",
       "      <td>Avenida Francisco Pinheiro - nº s/n</td>\n",
       "      <td>10S005260</td>\n",
       "      <td>67W465870</td>\n",
       "      <td>25/10/2013</td>\n",
       "      <td>13/02/2014</td>\n",
       "      <td>09/06/2014</td>\n",
       "    </tr>\n",
       "  </tbody>\n",
       "</table>\n",
       "</div>"
      ],
      "text/plain": [
       "  num_operadora sgl_operadora                 nom_operadora    Estação  \\\n",
       "0       4152433        NEXTEL  NEXTEL TELECOMUNICACOES LTDA  698421370   \n",
       "1       4152433        NEXTEL  NEXTEL TELECOMUNICACOES LTDA  699136172   \n",
       "2       4152433        NEXTEL  NEXTEL TELECOMUNICACOES LTDA  699136237   \n",
       "3       4152433        NEXTEL  NEXTEL TELECOMUNICACOES LTDA  699521963   \n",
       "4       4152433        NEXTEL  NEXTEL TELECOMUNICACOES LTDA  699521980   \n",
       "\n",
       "          Nome  UF   Município            Bairro  \\\n",
       "0  ACCRBO009OU  AC  Rio Branco         Vila Nova   \n",
       "1  ACCRBO004OU  AC  Rio Branco  Conjunto Tangará   \n",
       "2  ACCRBO013OU  AC  Rio Branco          Alumínio   \n",
       "3  ACCRBO001OU  AC  Rio Branco       Barro Preto   \n",
       "4  ACCRBO002OU  AC  Rio Branco            Centro   \n",
       "\n",
       "                                          Logradouro   Latitude  Longitude  \\\n",
       "0            Avenida Antônio da Rocha Viana - nº s/n  09S561476  67W493986   \n",
       "1               Avenida Nações Unidas, s/n° - nº S/N  09S575120  67W502730   \n",
       "2                   Rua 05 Quadra 7 Lote 17 - nº S/N  09S571380  67W500270   \n",
       "3  Travessa Santa Tereza esquina com Invernada - ...  09S580090  67W473690   \n",
       "4                Avenida Francisco Pinheiro - nº s/n  10S005260  67W465870   \n",
       "\n",
       "  Data Cadastro Data 1º Lic. Última Licença  \n",
       "0    10/12/2012   09/01/2013     09/06/2014  \n",
       "1    01/07/2013   12/09/2013     09/06/2014  \n",
       "2    01/07/2013   12/09/2013     09/06/2014  \n",
       "3    25/10/2013   13/02/2014     09/06/2014  \n",
       "4    25/10/2013   13/02/2014     09/06/2014  "
      ]
     },
     "execution_count": 5,
     "metadata": {},
     "output_type": "execute_result"
    }
   ],
   "source": [
    "dados_br.head()"
   ]
  },
  {
   "cell_type": "code",
   "execution_count": 6,
   "metadata": {
    "collapsed": true,
    "deletable": true,
    "editable": true
   },
   "outputs": [],
   "source": [
    "dados_br.Latitude = dados_br.Latitude.map(string2geocoord)\n",
    "dados_br.Longitude = dados_br.Longitude.map(string2geocoord)"
   ]
  },
  {
   "cell_type": "code",
   "execution_count": 7,
   "metadata": {
    "collapsed": false,
    "deletable": true,
    "editable": true,
    "hideOutput": true,
    "scrolled": true
   },
   "outputs": [
    {
     "name": "stdout",
     "output_type": "stream",
     "text": [
      "<class 'pandas.core.frame.DataFrame'>\n",
      "RangeIndex: 86243 entries, 0 to 86242\n",
      "Data columns (total 14 columns):\n",
      "num_operadora     86243 non-null object\n",
      "sgl_operadora     86243 non-null object\n",
      "nom_operadora     86243 non-null object\n",
      "Estação           86243 non-null object\n",
      "Nome              86154 non-null object\n",
      "UF                86243 non-null object\n",
      "Município         86243 non-null object\n",
      "Bairro            84656 non-null object\n",
      "Logradouro        86243 non-null object\n",
      "Latitude          86243 non-null object\n",
      "Longitude         86243 non-null object\n",
      "Data Cadastro     86243 non-null object\n",
      "Data 1º Lic.      84241 non-null object\n",
      "Última Licença    80080 non-null object\n",
      "dtypes: object(14)\n",
      "memory usage: 9.2+ MB\n"
     ]
    }
   ],
   "source": [
    "dados_br.info()"
   ]
  },
  {
   "cell_type": "code",
   "execution_count": 9,
   "metadata": {
    "collapsed": false,
    "deletable": true,
    "editable": true
   },
   "outputs": [
    {
     "data": {
      "text/plain": [
       "UF  sgl_operadora\n",
       "AC  CLARO              55\n",
       "    NEXTEL             35\n",
       "    OI                 52\n",
       "    TELEFÔNICA         82\n",
       "    TIM                46\n",
       "AL  CLARO             193\n",
       "    NEXTEL             41\n",
       "    OI                234\n",
       "    TELEFÔNICA        275\n",
       "    TIM               299\n",
       "AM  CLARO             192\n",
       "    NEXTEL            152\n",
       "    OI                149\n",
       "    TELEFÔNICA        514\n",
       "    TIM               236\n",
       "AP  CLARO              33\n",
       "    NEXTEL             23\n",
       "    OI                 65\n",
       "    TELEFÔNICA         78\n",
       "    TIM                50\n",
       "BA  CLARO            1153\n",
       "    NEXTEL            414\n",
       "    OI                730\n",
       "    TELEFÔNICA        870\n",
       "    TIM               943\n",
       "CE  CLARO             486\n",
       "    NEXTEL            197\n",
       "    OI                506\n",
       "    TELEFÔNICA        944\n",
       "    TIM               738\n",
       "                     ... \n",
       "RR  OI                 15\n",
       "    TELEFÔNICA         64\n",
       "    TIM                34\n",
       "RS  CLARO            1173\n",
       "    NEXTEL            349\n",
       "    OI               1306\n",
       "    TELEFÔNICA       1542\n",
       "    TIM              1269\n",
       "SC  CLARO             632\n",
       "    NEXTEL            298\n",
       "    OI                741\n",
       "    TELEFÔNICA        646\n",
       "    TIM              1035\n",
       "    TPA                 1\n",
       "SE  CLARO             110\n",
       "    NEXTEL             55\n",
       "    OI                133\n",
       "    TELEFÔNICA        294\n",
       "    TIM               123\n",
       "SP  ALGAR              86\n",
       "    CLARO            3818\n",
       "    NEXTEL           3462\n",
       "    OI               4856\n",
       "    TELEFÔNICA       4856\n",
       "    TIM              4619\n",
       "TO  CLARO             226\n",
       "    NEXTEL             35\n",
       "    OI                174\n",
       "    TELEFÔNICA        102\n",
       "    TIM                67\n",
       "Name: Estação, Length: 143, dtype: int64"
      ]
     },
     "execution_count": 9,
     "metadata": {},
     "output_type": "execute_result"
    }
   ],
   "source": [
    "dados_br.groupby(['UF', 'sgl_operadora']).Estação.count()"
   ]
  },
  {
   "cell_type": "code",
   "execution_count": 10,
   "metadata": {
    "collapsed": true,
    "deletable": true,
    "editable": true,
    "hideOutput": true
   },
   "outputs": [],
   "source": [
    "dados_br.to_csv('../data/dataset-erb-BR.csv', sep=';', encoding='Latin1', index=False)"
   ]
  }
 ],
 "metadata": {
  "kernelspec": {
   "display_name": "Python 3",
   "language": "python",
   "name": "python3"
  },
  "language_info": {
   "codemirror_mode": {
    "name": "ipython",
    "version": 3
   },
   "file_extension": ".py",
   "mimetype": "text/x-python",
   "name": "python",
   "nbconvert_exporter": "python",
   "pygments_lexer": "ipython3",
   "version": "3.6.2"
  }
 },
 "nbformat": 4,
 "nbformat_minor": 2
}
